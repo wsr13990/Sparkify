{
 "cells": [
  {
   "cell_type": "markdown",
   "metadata": {},
   "source": [
    "# Sparkify Project Workspace\n",
    "This workspace contains a tiny subset (128MB) of the full dataset available (12GB). Feel free to use this workspace to build your project, or to explore a smaller subset with Spark before deploying your cluster on the cloud. Instructions for setting up your Spark cluster is included in the last lesson of the Extracurricular Spark Course content.\n",
    "\n",
    "You can follow the steps below to guide your data analysis and model building portion of this project."
   ]
  },
  {
   "cell_type": "code",
   "execution_count": 11,
   "metadata": {},
   "outputs": [],
   "source": [
    "# import libraries\n",
    "import pyspark\n",
    "import numpy as np\n",
    "import pandas as pd\n",
    "from pyspark import SparkContext\n",
    "from pyspark.sql import SparkSession\n",
    "from pyspark.conf import SparkConf\n",
    "from pyspark.sql import types, Window, functions as f\n",
    "from pyspark.sql import DataFrame\n",
    "from functools import reduce\n",
    "from pyspark.sql.types import IntegerType,StringType\n",
    "from typing import Dict, Any\n",
    "from pyspark.ml.feature import OneHotEncoder, VectorAssembler, StandardScaler, StringIndexer\n",
    "from pyspark.ml import Pipeline, Transformer\n",
    "from pyspark.ml.classification import DecisionTreeClassifier, GBTClassifier, LogisticRegression, RandomForestClassifier\n",
    "from pyspark.ml.evaluation import MulticlassClassificationEvaluator, BinaryClassificationEvaluator\n",
    "from pyspark.sql.types import *"
   ]
  },
  {
   "cell_type": "code",
   "execution_count": 2,
   "metadata": {},
   "outputs": [],
   "source": [
    "# create a SparkSession: note this step was left out of the screencast\n",
    "spark = (\n",
    "    SparkSession.builder\n",
    "    .master(\"local\")\n",
    "    .appName(\"Udacity Capstone\")\n",
    "    .getOrCreate()\n",
    ")"
   ]
  },
  {
   "cell_type": "markdown",
   "metadata": {},
   "source": [
    "# Load and Clean Dataset\n",
    "In this workspace, the mini-dataset file is `mini_sparkify_event_data.json`. Load and clean the dataset, checking for invalid or missing data - for example, records without userids or sessionids. "
   ]
  },
  {
   "cell_type": "code",
   "execution_count": 3,
   "metadata": {},
   "outputs": [],
   "source": [
    "df = spark.read.json(\"mini_sparkify_event_data.json\")"
   ]
  },
  {
   "cell_type": "markdown",
   "metadata": {},
   "source": [
    "### Total Record"
   ]
  },
  {
   "cell_type": "code",
   "execution_count": 5,
   "metadata": {},
   "outputs": [
    {
     "data": {
      "text/plain": [
       "286500"
      ]
     },
     "execution_count": 5,
     "metadata": {},
     "output_type": "execute_result"
    }
   ],
   "source": [
    "df.count()"
   ]
  },
  {
   "cell_type": "markdown",
   "metadata": {},
   "source": [
    "### Check Missing User Id"
   ]
  },
  {
   "cell_type": "code",
   "execution_count": 6,
   "metadata": {},
   "outputs": [
    {
     "data": {
      "text/plain": [
       "8346"
      ]
     },
     "execution_count": 6,
     "metadata": {},
     "output_type": "execute_result"
    }
   ],
   "source": [
    "df.where(\n",
    "    (f.col(\"userId\")=='')|\n",
    "    (f.col(\"userId\").isNull())|\n",
    "    (f.col(\"userId\")=='-')\n",
    ").count()"
   ]
  },
  {
   "cell_type": "code",
   "execution_count": 7,
   "metadata": {
    "scrolled": true
   },
   "outputs": [],
   "source": [
    "invalid_userid = (\n",
    "    df.where(\n",
    "        (f.col(\"userId\")=='')|\n",
    "        (f.col(\"userId\").isNull())|\n",
    "        (f.col(\"userId\")=='-')\n",
    "    )\n",
    ")"
   ]
  },
  {
   "cell_type": "code",
   "execution_count": 8,
   "metadata": {},
   "outputs": [
    {
     "data": {
      "text/html": [
       "<div>\n",
       "<style scoped>\n",
       "    .dataframe tbody tr th:only-of-type {\n",
       "        vertical-align: middle;\n",
       "    }\n",
       "\n",
       "    .dataframe tbody tr th {\n",
       "        vertical-align: top;\n",
       "    }\n",
       "\n",
       "    .dataframe thead th {\n",
       "        text-align: right;\n",
       "    }\n",
       "</style>\n",
       "<table border=\"1\" class=\"dataframe\">\n",
       "  <thead>\n",
       "    <tr style=\"text-align: right;\">\n",
       "      <th></th>\n",
       "      <th>auth</th>\n",
       "    </tr>\n",
       "  </thead>\n",
       "  <tbody>\n",
       "    <tr>\n",
       "      <th>0</th>\n",
       "      <td>Logged Out</td>\n",
       "    </tr>\n",
       "    <tr>\n",
       "      <th>1</th>\n",
       "      <td>Guest</td>\n",
       "    </tr>\n",
       "  </tbody>\n",
       "</table>\n",
       "</div>"
      ],
      "text/plain": [
       "         auth\n",
       "0  Logged Out\n",
       "1       Guest"
      ]
     },
     "execution_count": 8,
     "metadata": {},
     "output_type": "execute_result"
    }
   ],
   "source": [
    "invalid_userid.select(\"auth\").distinct().toPandas()"
   ]
  },
  {
   "cell_type": "markdown",
   "metadata": {},
   "source": [
    "Invalid userId are due to logged out session or Guest"
   ]
  },
  {
   "cell_type": "code",
   "execution_count": 9,
   "metadata": {},
   "outputs": [
    {
     "data": {
      "text/plain": [
       "0"
      ]
     },
     "execution_count": 9,
     "metadata": {},
     "output_type": "execute_result"
    }
   ],
   "source": [
    "df.where(\n",
    "    (f.col(\"sessionId\")=='')|\n",
    "    (f.col(\"sessionId\").isNull())|\n",
    "    (f.col(\"sessionId\")=='-')\n",
    ").count()"
   ]
  },
  {
   "cell_type": "markdown",
   "metadata": {},
   "source": [
    "### Filter out Missing UserId"
   ]
  },
  {
   "cell_type": "code",
   "execution_count": 10,
   "metadata": {},
   "outputs": [],
   "source": [
    "df = (\n",
    "    df.where(\n",
    "    (f.col(\"userId\")!='')&\n",
    "    (~f.col(\"userId\").isNull())&\n",
    "    (f.col(\"userId\")!='-'))\n",
    ")"
   ]
  },
  {
   "cell_type": "markdown",
   "metadata": {},
   "source": [
    "# Exploratory Data Analysis\n",
    "When you're working with the full dataset, perform EDA by loading a small subset of the data and doing basic manipulations within Spark. In this workspace, you are already provided a small subset of data you can explore.\n",
    "\n",
    "### Define Churn\n",
    "\n",
    "Once you've done some preliminary analysis, create a column `Churn` to use as the label for your model. I suggest using the `Cancellation Confirmation` events to define your churn, which happen for both paid and free users. As a bonus task, you can also look into the `Downgrade` events.\n",
    "\n",
    "### Explore Data\n",
    "Once you've defined churn, perform some exploratory data analysis to observe the behavior for users who stayed vs users who churned. You can start by exploring aggregates on these two groups of users, observing how much of a specific action they experienced per a certain time unit or number of songs played."
   ]
  },
  {
   "cell_type": "markdown",
   "metadata": {},
   "source": [
    "<b>total user<b>"
   ]
  },
  {
   "cell_type": "code",
   "execution_count": 11,
   "metadata": {},
   "outputs": [
    {
     "data": {
      "text/plain": [
       "225"
      ]
     },
     "execution_count": 11,
     "metadata": {},
     "output_type": "execute_result"
    }
   ],
   "source": [
    "df.select(\"userId\").distinct().count()"
   ]
  },
  {
   "cell_type": "markdown",
   "metadata": {},
   "source": [
    "<b>total trx<b>"
   ]
  },
  {
   "cell_type": "code",
   "execution_count": 12,
   "metadata": {},
   "outputs": [
    {
     "data": {
      "text/plain": [
       "278154"
      ]
     },
     "execution_count": 12,
     "metadata": {},
     "output_type": "execute_result"
    }
   ],
   "source": [
    "df.count()"
   ]
  },
  {
   "cell_type": "markdown",
   "metadata": {},
   "source": [
    "### labeling churn"
   ]
  },
  {
   "cell_type": "code",
   "execution_count": 7,
   "metadata": {},
   "outputs": [],
   "source": [
    "is_churn_label = (\n",
    "    df\n",
    "    .withColumn(\"is_churn\",\n",
    "                f.when(f.col(\"page\")=='Cancellation Confirmation',f.lit(1))\n",
    "                .otherwise(f.lit(0))\n",
    "               )\n",
    "    .groupby(\"userId\")\n",
    "    .agg(f.max(\"is_churn\").alias(\"is_churn\"))\n",
    ")"
   ]
  },
  {
   "cell_type": "code",
   "execution_count": 14,
   "metadata": {},
   "outputs": [
    {
     "data": {
      "text/plain": [
       "225"
      ]
     },
     "execution_count": 14,
     "metadata": {},
     "output_type": "execute_result"
    }
   ],
   "source": [
    "is_churn_label.count()"
   ]
  },
  {
   "cell_type": "markdown",
   "metadata": {},
   "source": [
    "<b>Add Length of Stay (LoS) Feature<b>"
   ]
  },
  {
   "cell_type": "markdown",
   "metadata": {},
   "source": [
    "How many row have missing length?"
   ]
  },
  {
   "cell_type": "code",
   "execution_count": 17,
   "metadata": {},
   "outputs": [
    {
     "data": {
      "text/plain": [
       "50046"
      ]
     },
     "execution_count": 17,
     "metadata": {},
     "output_type": "execute_result"
    }
   ],
   "source": [
    "df.where(f.col(\"length\").isNull()).count()"
   ]
  },
  {
   "cell_type": "code",
   "execution_count": 14,
   "metadata": {},
   "outputs": [],
   "source": [
    "df_exploration = (\n",
    "    df\n",
    "    .join(is_churn_label,on=\"userId\",how='left')\n",
    "    .fillna(0,subset=['is_churn'])\n",
    "    .cache()\n",
    ")"
   ]
  },
  {
   "cell_type": "code",
   "execution_count": 15,
   "metadata": {},
   "outputs": [],
   "source": [
    "pipeline = pipeline_builder()\n",
    "df_exploration = get_churn_flag(df)\n",
    "df_exploration = pipeline.fit(df_exploration).transform(df_exploration)"
   ]
  },
  {
   "cell_type": "code",
   "execution_count": 16,
   "metadata": {},
   "outputs": [],
   "source": [
    "df_exploration = (\n",
    "    df_exploration\n",
    "    .withColumn(\"los_days\",f.round((f.col(\"ts\")-f.col(\"registration\"))/f.lit(24*3600*1000),0))\n",
    "    .withColumn(\"los_flag\",\n",
    "                f.when(f.col(\"los_days\")<30,f.lit(\"1.<30d\"))\n",
    "                .when(f.col(\"los_days\").between(30,60),f.lit(\"2.30d-60d\"))\n",
    "                .when(f.col(\"los_days\").between(60,180),f.lit(\"3.60d-180d\"))\n",
    "                .when(f.col(\"los_days\").between(180,360),f.lit(\"4.180d-360d\"))\n",
    "                .when(f.col(\"los_days\")>360,f.lit(\"5.360d+\"))\n",
    "               )\n",
    ")"
   ]
  },
  {
   "cell_type": "code",
   "execution_count": 17,
   "metadata": {},
   "outputs": [],
   "source": [
    "df_exploration = (\n",
    "    df_exploration\n",
    "    .withColumn(\"itemInSession_flag\",\n",
    "                f.when(f.col(\"itemInSession\")<5,f.lit(\"1.<5\"))\n",
    "                .when(f.col(\"itemInSession\").between(5,10),f.lit(\"2.5-10\"))\n",
    "                .when(f.col(\"itemInSession\").between(10,20),f.lit(\"3.10-20\"))\n",
    "                .when(f.col(\"itemInSession\").between(20,50),f.lit(\"4.20-50\"))\n",
    "                .when(f.col(\"itemInSession\").between(50,100),f.lit(\"5.50-100\"))\n",
    "                .when(f.col(\"itemInSession\").between(100,200),f.lit(\"6.100-200\"))\n",
    "                .when(f.col(\"itemInSession\").between(200,500),f.lit(\"7.200-500\"))\n",
    "                .when(f.col(\"itemInSession\")>500,f.lit(\"8.500+\"))\n",
    "               )\n",
    ")"
   ]
  },
  {
   "cell_type": "code",
   "execution_count": 18,
   "metadata": {},
   "outputs": [],
   "source": [
    "df_exploration = (\n",
    "    df_exploration\n",
    "    .withColumn(\"length_flag\",\n",
    "                f.when(f.col(\"itemInSession\")<5,f.lit(\"1.<5\"))\n",
    "                .when(f.col(\"itemInSession\").between(5,10),f.lit(\"2.5-10\"))\n",
    "                .when(f.col(\"itemInSession\").between(10,20),f.lit(\"3.10-20\"))\n",
    "                .when(f.col(\"itemInSession\").between(20,50),f.lit(\"4.20-50\"))\n",
    "                .when(f.col(\"itemInSession\").between(50,100),f.lit(\"5.50-100\"))\n",
    "                .when(f.col(\"itemInSession\").between(100,200),f.lit(\"6.100-200\"))\n",
    "                .when(f.col(\"itemInSession\").between(200,500),f.lit(\"7.200-500\"))\n",
    "                .when(f.col(\"itemInSession\")>500,f.lit(\"8.500+\"))\n",
    "               )\n",
    ")"
   ]
  },
  {
   "cell_type": "code",
   "execution_count": 19,
   "metadata": {
    "scrolled": true
   },
   "outputs": [
    {
     "name": "stdout",
     "output_type": "stream",
     "text": [
      "root\n",
      " |-- userId: string (nullable = true)\n",
      " |-- artist: string (nullable = true)\n",
      " |-- auth: string (nullable = true)\n",
      " |-- firstName: string (nullable = true)\n",
      " |-- gender: string (nullable = true)\n",
      " |-- itemInSession: long (nullable = true)\n",
      " |-- lastName: string (nullable = true)\n",
      " |-- length: double (nullable = true)\n",
      " |-- level: string (nullable = true)\n",
      " |-- location: string (nullable = true)\n",
      " |-- method: string (nullable = true)\n",
      " |-- page: string (nullable = true)\n",
      " |-- registration: long (nullable = true)\n",
      " |-- sessionId: long (nullable = true)\n",
      " |-- song: string (nullable = true)\n",
      " |-- status: long (nullable = true)\n",
      " |-- ts: long (nullable = true)\n",
      " |-- userAgent: string (nullable = true)\n",
      " |-- is_churn: integer (nullable = true)\n",
      " |-- activity_timestamp: timestamp (nullable = true)\n",
      " |-- activity_date: date (nullable = true)\n",
      " |-- registration_timestamp: timestamp (nullable = true)\n",
      " |-- registration_date: date (nullable = true)\n",
      " |-- los_hour: double (nullable = true)\n",
      " |-- los_day: double (nullable = true)\n",
      " |-- count_activity_1d: integer (nullable = false)\n",
      " |-- time_spent_1d: double (nullable = true)\n",
      " |-- genderIndex: double (nullable = false)\n",
      " |-- levelIndex: double (nullable = false)\n",
      " |-- genderVec: vector (nullable = true)\n",
      " |-- levelVec: vector (nullable = true)\n",
      " |-- features: vector (nullable = true)\n",
      " |-- indexed_label: double (nullable = false)\n",
      " |-- rawPrediction: vector (nullable = true)\n",
      " |-- probability: vector (nullable = true)\n",
      " |-- prediction: double (nullable = false)\n",
      " |-- los_days: double (nullable = true)\n",
      " |-- los_flag: string (nullable = true)\n",
      " |-- itemInSession_flag: string (nullable = true)\n",
      " |-- length_flag: string (nullable = true)\n",
      "\n"
     ]
    }
   ],
   "source": [
    "df_exploration.printSchema()"
   ]
  },
  {
   "cell_type": "code",
   "execution_count": 32,
   "metadata": {
    "scrolled": false
   },
   "outputs": [
    {
     "name": "stdout",
     "output_type": "stream",
     "text": [
      "  summary              userId             artist       auth firstName  gender  \\\n",
      "0   count              278154             228108     278154    278154  278154   \n",
      "1    mean   59682.02278593872  551.0852017937219       None      None    None   \n",
      "2  stddev  109091.94999910562  1217.769307916138       None      None    None   \n",
      "3     min                  10                !!!  Cancelled  Adelaida       F   \n",
      "4     max                  99  ÃÂlafur Arnalds  Logged In    Zyonna       M   \n",
      "\n",
      "        itemInSession lastName              length   level     ...      \\\n",
      "0              278154   278154              228108  278154     ...       \n",
      "1  114.89918174824018     None  249.11718197784342    None     ...       \n",
      "2  129.85172939948998     None   99.23517921058446    None     ...       \n",
      "3                   0    Adams             0.78322    free     ...       \n",
      "4                1321   Wright          3024.66567    paid     ...       \n",
      "\n",
      "   count_activity_1d      time_spent_1d          genderIndex  \\\n",
      "0             278154             278154               278154   \n",
      "1   64.6643046657607  976937.0181932496  0.44427187816820896   \n",
      "2  14.54626995759227  260260.2341291815  0.49688556434843256   \n",
      "3                  1          277.89016                  0.0   \n",
      "4                 92  1675840.139369995                  1.0   \n",
      "\n",
      "            levelIndex        indexed_label           prediction  \\\n",
      "0               278154               278154               278154   \n",
      "1  0.20032428079409248  0.16129194618808287  0.04539931117294736   \n",
      "2  0.40024372479845205  0.36780068056309134  0.20817869613645182   \n",
      "3                  0.0                  0.0                  0.0   \n",
      "4                  1.0                  1.0                  1.0   \n",
      "\n",
      "             los_days     los_flag itemInSession_flag length_flag  \n",
      "0              278154       278154             278154      278154  \n",
      "1   64.80667184365495         None               None        None  \n",
      "2  41.997753265217646         None               None        None  \n",
      "3                -2.0       1.<30d               1.<5        1.<5  \n",
      "4               256.0  4.180d-360d             8.500+      8.500+  \n",
      "\n",
      "[5 rows x 32 columns]\n"
     ]
    },
    {
     "data": {
      "image/png": "[encoded data removed]",
      "text/plain": [
       "<matplotlib.figure.Figure at 0x7f6e1b254ac8>"
      ]
     },
     "metadata": {},
     "output_type": "display_data"
    },
    {
     "data": {
      "image/png": "[encoded data removed]",
      "text/plain": [
       "<matplotlib.figure.Figure at 0x7f6e44a64b00>"
      ]
     },
     "metadata": {},
     "output_type": "display_data"
    },
    {
     "data": {
      "image/png": "[encoded data removed]",
      "text/plain": [
       "<matplotlib.figure.Figure at 0x7f6e1b257908>"
      ]
     },
     "metadata": {},
     "output_type": "display_data"
    },
    {
     "data": {
      "image/png": "[encoded data removed]",
      "text/plain": [
       "<matplotlib.figure.Figure at 0x7f6e29aaae10>"
      ]
     },
     "metadata": {},
     "output_type": "display_data"
    }
   ],
   "source": [
    "import matplotlib.pyplot as plt\n",
    "import seaborn as sns\n",
    "from pyspark.sql.functions import col\n",
    "from pyspark.sql.types import DoubleType\n",
    "\n",
    "# Convert 'length' column to DoubleType for visualization (if needed)\n",
    "df_exploration = df_exploration.withColumn('length', col('length').cast(DoubleType()))\n",
    "\n",
    "# Summary statistics\n",
    "summary = df_exploration.describe().toPandas()\n",
    "print(summary)\n",
    "\n",
    "# Subplot visualization using Seaborn\n",
    "sns.set(style=\"whitegrid\")\n",
    "\n",
    "# Example 1: Distribution of Gender\n",
    "plt.figure(figsize=(12, 6))\n",
    "sns.countplot(data=df_exploration.toPandas(), x='gender')\n",
    "plt.title('Distribution of Gender')\n",
    "plt.show()\n",
    "\n",
    "# Example 2: Distribution of Page Visits\n",
    "plt.figure(figsize=(12, 6))\n",
    "sns.countplot(data=df_exploration.toPandas(), y='page')\n",
    "plt.title('Distribution of Page Visits')\n",
    "plt.show()\n",
    "\n",
    "# Example 3: Relationship between Length and Level\n",
    "plt.figure(figsize=(12, 6))\n",
    "sns.boxplot(data=df_exploration.toPandas(), x='level', y='length')\n",
    "plt.title('Relationship between Length and Level')\n",
    "plt.show()\n",
    "\n",
    "# Example 5: Correlation Heatmap\n",
    "correlation_matrix = df_exploration.select(['length', 'itemInSession', 'time_spent_1d', 'los_hour', 'los_day']).toPandas().corr()\n",
    "plt.figure(figsize=(10, 8))\n",
    "sns.heatmap(correlation_matrix, annot=True, cmap='coolwarm')\n",
    "plt.title('Correlation Heatmap')\n",
    "plt.show()"
   ]
  },
  {
   "cell_type": "code",
   "execution_count": 23,
   "metadata": {},
   "outputs": [
    {
     "data": {
      "image/png": "[encoded data removed]",
      "text/plain": [
       "<matplotlib.figure.Figure at 0x7f6e44988f28>"
      ]
     },
     "metadata": {
      "needs_background": "light"
     },
     "output_type": "display_data"
    }
   ],
   "source": [
    "import matplotlib.pyplot as plt\n",
    "import seaborn as sns\n",
    "import pyspark.sql.functions as F\n",
    "\n",
    "# Calculate total number of customers who churned and who did not\n",
    "churn_counts = df_exploration.groupBy(\"is_churn\").count().orderBy(\"is_churn\")\n",
    "\n",
    "# Convert to Pandas DataFrame for visualization\n",
    "churn_counts_pd = churn_counts.toPandas()\n",
    "\n",
    "# Plot the churn comparison\n",
    "plt.figure(figsize=(8, 6))\n",
    "sns.barplot(data=churn_counts_pd, x='is_churn', y='count')\n",
    "plt.title('Total Number of Customers: Churned vs. Not Churned')\n",
    "plt.xlabel('Churn Status')\n",
    "plt.ylabel('Total Number of Customers')\n",
    "plt.show()"
   ]
  },
  {
   "cell_type": "code",
   "execution_count": 25,
   "metadata": {},
   "outputs": [
    {
     "name": "stdout",
     "output_type": "stream",
     "text": [
      "+--------+------+\n",
      "|is_churn| count|\n",
      "+--------+------+\n",
      "|       0|233290|\n",
      "|       1| 44864|\n",
      "+--------+------+\n",
      "\n"
     ]
    }
   ],
   "source": [
    "churn_counts.show()"
   ]
  },
  {
   "cell_type": "code",
   "execution_count": 52,
   "metadata": {
    "scrolled": false
   },
   "outputs": [
    {
     "data": {
      "image/png": "[encoded data removed]",
      "text/plain": [
       "<matplotlib.figure.Figure at 0x7f6c254bc898>"
      ]
     },
     "metadata": {
      "needs_background": "light"
     },
     "output_type": "display_data"
    },
    {
     "data": {
      "image/png": "[encoded data removed]",
      "text/plain": [
       "<matplotlib.figure.Figure at 0x7f6c255be588>"
      ]
     },
     "metadata": {
      "needs_background": "light"
     },
     "output_type": "display_data"
    },
    {
     "data": {
      "image/png": "[encoded data removed]",
      "text/plain": [
       "<matplotlib.figure.Figure at 0x7f6c40a226d8>"
      ]
     },
     "metadata": {
      "needs_background": "light"
     },
     "output_type": "display_data"
    },
    {
     "data": {
      "image/png": "[encoded data removed]",
      "text/plain": [
       "<matplotlib.figure.Figure at 0x7f6c40a10828>"
      ]
     },
     "metadata": {
      "needs_background": "light"
     },
     "output_type": "display_data"
    },
    {
     "data": {
      "image/png": "[encoded data removed]",
      "text/plain": [
       "<matplotlib.figure.Figure at 0x7f6c2420c3c8>"
      ]
     },
     "metadata": {
      "needs_background": "light"
     },
     "output_type": "display_data"
    }
   ],
   "source": [
    "import pyspark.sql.functions as F\n",
    "import matplotlib.pyplot as plt\n",
    "import seaborn as sns\n",
    "\n",
    "# Calculate churn rate by gender\n",
    "gender_churn_rate = df_exploration.groupBy(\"gender\").agg(\n",
    "    (F.sum(\"is_churn\") / F.count(\"userId\") * 100).alias(\"churn_rate\")\n",
    ").orderBy(f.col(\"gender\").asc())\n",
    "\n",
    "# Calculate churn rate by user level\n",
    "level_churn_rate = df_exploration.groupBy(\"level\").agg(\n",
    "    (F.sum(\"is_churn\") / F.count(\"userId\") * 100).alias(\"churn_rate\")\n",
    ").orderBy(f.col(\"level\").asc())\n",
    "\n",
    "# Calculate churn rate by Length of Stay (LoS)\n",
    "los_churn_rate = df_exploration.groupBy(\"los_flag\").agg(\n",
    "    (F.sum(\"is_churn\") / F.count(\"userId\") * 100).alias(\"churn_rate\")\n",
    ").orderBy(f.col(\"los_flag\").asc())\n",
    "\n",
    "# Calculate churn rate by Item in Session\n",
    "itemInSession_churn_rate = df_exploration.groupBy(\"itemInSession_flag\").agg(\n",
    "    (F.sum(\"is_churn\") / F.count(\"userId\") * 100).alias(\"churn_rate\")\n",
    ").orderBy(f.col(\"itemInSession_flag\").asc())\n",
    "\n",
    "# Calculate churn rate by Length of Song\n",
    "length_churn_rate = df_exploration.groupBy(\"length_flag\").agg(\n",
    "    (F.sum(\"is_churn\") / F.count(\"userId\") * 100).alias(\"churn_rate\")\n",
    ").orderBy(f.col(\"length_flag\").asc())\n",
    "\n",
    "# Visualize churn rate by gender\n",
    "plt.figure(figsize=(10, 6))\n",
    "sns.barplot(data=gender_churn_rate.toPandas(), x='gender', y='churn_rate')\n",
    "plt.title('Churn Rate by Gender')\n",
    "plt.xlabel('Gender')\n",
    "plt.ylabel('Churn Rate (%)')\n",
    "plt.show()\n",
    "\n",
    "# Visualize churn rate by user level\n",
    "plt.figure(figsize=(10, 6))\n",
    "sns.barplot(data=level_churn_rate.toPandas(), x='level', y='churn_rate')\n",
    "plt.title('Churn Rate by User Level')\n",
    "plt.xlabel('User Level')\n",
    "plt.ylabel('Churn Rate (%)')\n",
    "plt.show()\n",
    "\n",
    "# Visualize churn rate by Length of Stay (LoS)\n",
    "plt.figure(figsize=(12, 8))\n",
    "sns.barplot(data=los_churn_rate.toPandas(), x='los_flag', y='churn_rate')\n",
    "plt.title('Churn Rate by Length of Stay (LoS)')\n",
    "plt.xlabel('Length of Stay')\n",
    "plt.ylabel('Churn Rate (%)')\n",
    "plt.xticks(rotation=45)\n",
    "plt.show()\n",
    "\n",
    "# Visualize churn rate by Item in Session\n",
    "plt.figure(figsize=(12, 8))\n",
    "sns.barplot(data=itemInSession_churn_rate.toPandas(), x='itemInSession_flag', y='churn_rate')\n",
    "plt.title('Churn Rate by Item in Session')\n",
    "plt.xlabel('Item in Session')\n",
    "plt.ylabel('Churn Rate (%)')\n",
    "plt.xticks(rotation=45)\n",
    "plt.show()\n",
    "\n",
    "# Visualize churn rate by Length of Song\n",
    "plt.figure(figsize=(12, 8))\n",
    "sns.barplot(data=length_churn_rate.toPandas(), x='length_flag', y='churn_rate')\n",
    "plt.title('Churn Rate by Length of Song')\n",
    "plt.xlabel('Length of Song')\n",
    "plt.ylabel('Churn Rate (%)')\n",
    "plt.xticks(rotation=45)\n",
    "plt.show()\n"
   ]
  },
  {
   "cell_type": "markdown",
   "metadata": {},
   "source": [
    "### Identifying potential feature for churn prediction"
   ]
  },
  {
   "cell_type": "markdown",
   "metadata": {},
   "source": [
    "Free user have higher churn rate both in transaction level and user aggregate level"
   ]
  },
  {
   "cell_type": "markdown",
   "metadata": {},
   "source": [
    "Male have higher churn rate than female both in transaction level and user aggregate level"
   ]
  },
  {
   "cell_type": "markdown",
   "metadata": {},
   "source": [
    "Customer churn rate negatively correlated with Los"
   ]
  },
  {
   "cell_type": "markdown",
   "metadata": {},
   "source": [
    "Customer with item in session > 100 have noticable lower churn rate"
   ]
  },
  {
   "cell_type": "code",
   "execution_count": 35,
   "metadata": {
    "scrolled": true
   },
   "outputs": [
    {
     "data": {
      "text/html": [
       "<div>\n",
       "<style scoped>\n",
       "    .dataframe tbody tr th:only-of-type {\n",
       "        vertical-align: middle;\n",
       "    }\n",
       "\n",
       "    .dataframe tbody tr th {\n",
       "        vertical-align: top;\n",
       "    }\n",
       "\n",
       "    .dataframe thead th {\n",
       "        text-align: right;\n",
       "    }\n",
       "</style>\n",
       "<table border=\"1\" class=\"dataframe\">\n",
       "  <thead>\n",
       "    <tr style=\"text-align: right;\">\n",
       "      <th></th>\n",
       "      <th>artist</th>\n",
       "      <th>auth</th>\n",
       "      <th>firstName</th>\n",
       "      <th>gender</th>\n",
       "      <th>itemInSession</th>\n",
       "      <th>lastName</th>\n",
       "      <th>length</th>\n",
       "      <th>level</th>\n",
       "      <th>location</th>\n",
       "      <th>method</th>\n",
       "      <th>page</th>\n",
       "      <th>registration</th>\n",
       "      <th>sessionId</th>\n",
       "      <th>song</th>\n",
       "      <th>status</th>\n",
       "      <th>ts</th>\n",
       "      <th>userAgent</th>\n",
       "      <th>userId</th>\n",
       "    </tr>\n",
       "  </thead>\n",
       "  <tbody>\n",
       "    <tr>\n",
       "      <th>0</th>\n",
       "      <td>Martha Tilston</td>\n",
       "      <td>Logged In</td>\n",
       "      <td>Colin</td>\n",
       "      <td>M</td>\n",
       "      <td>50</td>\n",
       "      <td>Freeman</td>\n",
       "      <td>277.89016</td>\n",
       "      <td>paid</td>\n",
       "      <td>Bakersfield, CA</td>\n",
       "      <td>PUT</td>\n",
       "      <td>NextSong</td>\n",
       "      <td>1538173362000</td>\n",
       "      <td>29</td>\n",
       "      <td>Rockpools</td>\n",
       "      <td>200</td>\n",
       "      <td>1538352117000</td>\n",
       "      <td>Mozilla/5.0 (Windows NT 6.1; WOW64; rv:31.0) G...</td>\n",
       "      <td>30</td>\n",
       "    </tr>\n",
       "    <tr>\n",
       "      <th>1</th>\n",
       "      <td>Five Iron Frenzy</td>\n",
       "      <td>Logged In</td>\n",
       "      <td>Micah</td>\n",
       "      <td>M</td>\n",
       "      <td>79</td>\n",
       "      <td>Long</td>\n",
       "      <td>236.09424</td>\n",
       "      <td>free</td>\n",
       "      <td>Boston-Cambridge-Newton, MA-NH</td>\n",
       "      <td>PUT</td>\n",
       "      <td>NextSong</td>\n",
       "      <td>1538331630000</td>\n",
       "      <td>8</td>\n",
       "      <td>Canada</td>\n",
       "      <td>200</td>\n",
       "      <td>1538352180000</td>\n",
       "      <td>\"Mozilla/5.0 (Windows NT 6.1; WOW64) AppleWebK...</td>\n",
       "      <td>9</td>\n",
       "    </tr>\n",
       "    <tr>\n",
       "      <th>2</th>\n",
       "      <td>Adam Lambert</td>\n",
       "      <td>Logged In</td>\n",
       "      <td>Colin</td>\n",
       "      <td>M</td>\n",
       "      <td>51</td>\n",
       "      <td>Freeman</td>\n",
       "      <td>282.82730</td>\n",
       "      <td>paid</td>\n",
       "      <td>Bakersfield, CA</td>\n",
       "      <td>PUT</td>\n",
       "      <td>NextSong</td>\n",
       "      <td>1538173362000</td>\n",
       "      <td>29</td>\n",
       "      <td>Time For Miracles</td>\n",
       "      <td>200</td>\n",
       "      <td>1538352394000</td>\n",
       "      <td>Mozilla/5.0 (Windows NT 6.1; WOW64; rv:31.0) G...</td>\n",
       "      <td>30</td>\n",
       "    </tr>\n",
       "    <tr>\n",
       "      <th>3</th>\n",
       "      <td>Enigma</td>\n",
       "      <td>Logged In</td>\n",
       "      <td>Micah</td>\n",
       "      <td>M</td>\n",
       "      <td>80</td>\n",
       "      <td>Long</td>\n",
       "      <td>262.71302</td>\n",
       "      <td>free</td>\n",
       "      <td>Boston-Cambridge-Newton, MA-NH</td>\n",
       "      <td>PUT</td>\n",
       "      <td>NextSong</td>\n",
       "      <td>1538331630000</td>\n",
       "      <td>8</td>\n",
       "      <td>Knocking On Forbidden Doors</td>\n",
       "      <td>200</td>\n",
       "      <td>1538352416000</td>\n",
       "      <td>\"Mozilla/5.0 (Windows NT 6.1; WOW64) AppleWebK...</td>\n",
       "      <td>9</td>\n",
       "    </tr>\n",
       "    <tr>\n",
       "      <th>4</th>\n",
       "      <td>Daft Punk</td>\n",
       "      <td>Logged In</td>\n",
       "      <td>Colin</td>\n",
       "      <td>M</td>\n",
       "      <td>52</td>\n",
       "      <td>Freeman</td>\n",
       "      <td>223.60771</td>\n",
       "      <td>paid</td>\n",
       "      <td>Bakersfield, CA</td>\n",
       "      <td>PUT</td>\n",
       "      <td>NextSong</td>\n",
       "      <td>1538173362000</td>\n",
       "      <td>29</td>\n",
       "      <td>Harder Better Faster Stronger</td>\n",
       "      <td>200</td>\n",
       "      <td>1538352676000</td>\n",
       "      <td>Mozilla/5.0 (Windows NT 6.1; WOW64; rv:31.0) G...</td>\n",
       "      <td>30</td>\n",
       "    </tr>\n",
       "    <tr>\n",
       "      <th>5</th>\n",
       "      <td>The All-American Rejects</td>\n",
       "      <td>Logged In</td>\n",
       "      <td>Micah</td>\n",
       "      <td>M</td>\n",
       "      <td>81</td>\n",
       "      <td>Long</td>\n",
       "      <td>208.29995</td>\n",
       "      <td>free</td>\n",
       "      <td>Boston-Cambridge-Newton, MA-NH</td>\n",
       "      <td>PUT</td>\n",
       "      <td>NextSong</td>\n",
       "      <td>1538331630000</td>\n",
       "      <td>8</td>\n",
       "      <td>Don't Leave Me</td>\n",
       "      <td>200</td>\n",
       "      <td>1538352678000</td>\n",
       "      <td>\"Mozilla/5.0 (Windows NT 6.1; WOW64) AppleWebK...</td>\n",
       "      <td>9</td>\n",
       "    </tr>\n",
       "    <tr>\n",
       "      <th>6</th>\n",
       "      <td>The Velvet Underground / Nico</td>\n",
       "      <td>Logged In</td>\n",
       "      <td>Micah</td>\n",
       "      <td>M</td>\n",
       "      <td>82</td>\n",
       "      <td>Long</td>\n",
       "      <td>260.46649</td>\n",
       "      <td>free</td>\n",
       "      <td>Boston-Cambridge-Newton, MA-NH</td>\n",
       "      <td>PUT</td>\n",
       "      <td>NextSong</td>\n",
       "      <td>1538331630000</td>\n",
       "      <td>8</td>\n",
       "      <td>Run Run Run</td>\n",
       "      <td>200</td>\n",
       "      <td>1538352886000</td>\n",
       "      <td>\"Mozilla/5.0 (Windows NT 6.1; WOW64) AppleWebK...</td>\n",
       "      <td>9</td>\n",
       "    </tr>\n",
       "    <tr>\n",
       "      <th>7</th>\n",
       "      <td>Starflyer 59</td>\n",
       "      <td>Logged In</td>\n",
       "      <td>Colin</td>\n",
       "      <td>M</td>\n",
       "      <td>53</td>\n",
       "      <td>Freeman</td>\n",
       "      <td>185.44281</td>\n",
       "      <td>paid</td>\n",
       "      <td>Bakersfield, CA</td>\n",
       "      <td>PUT</td>\n",
       "      <td>NextSong</td>\n",
       "      <td>1538173362000</td>\n",
       "      <td>29</td>\n",
       "      <td>Passengers (Old Album Version)</td>\n",
       "      <td>200</td>\n",
       "      <td>1538352899000</td>\n",
       "      <td>Mozilla/5.0 (Windows NT 6.1; WOW64; rv:31.0) G...</td>\n",
       "      <td>30</td>\n",
       "    </tr>\n",
       "    <tr>\n",
       "      <th>8</th>\n",
       "      <td>None</td>\n",
       "      <td>Logged In</td>\n",
       "      <td>Colin</td>\n",
       "      <td>M</td>\n",
       "      <td>54</td>\n",
       "      <td>Freeman</td>\n",
       "      <td>NaN</td>\n",
       "      <td>paid</td>\n",
       "      <td>Bakersfield, CA</td>\n",
       "      <td>PUT</td>\n",
       "      <td>Add to Playlist</td>\n",
       "      <td>1538173362000</td>\n",
       "      <td>29</td>\n",
       "      <td>None</td>\n",
       "      <td>200</td>\n",
       "      <td>1538352905000</td>\n",
       "      <td>Mozilla/5.0 (Windows NT 6.1; WOW64; rv:31.0) G...</td>\n",
       "      <td>30</td>\n",
       "    </tr>\n",
       "    <tr>\n",
       "      <th>9</th>\n",
       "      <td>Frumpies</td>\n",
       "      <td>Logged In</td>\n",
       "      <td>Colin</td>\n",
       "      <td>M</td>\n",
       "      <td>55</td>\n",
       "      <td>Freeman</td>\n",
       "      <td>134.47791</td>\n",
       "      <td>paid</td>\n",
       "      <td>Bakersfield, CA</td>\n",
       "      <td>PUT</td>\n",
       "      <td>NextSong</td>\n",
       "      <td>1538173362000</td>\n",
       "      <td>29</td>\n",
       "      <td>Fuck Kitty</td>\n",
       "      <td>200</td>\n",
       "      <td>1538353084000</td>\n",
       "      <td>Mozilla/5.0 (Windows NT 6.1; WOW64; rv:31.0) G...</td>\n",
       "      <td>30</td>\n",
       "    </tr>\n",
       "  </tbody>\n",
       "</table>\n",
       "</div>"
      ],
      "text/plain": [
       "                          artist       auth firstName gender  itemInSession  \\\n",
       "0                 Martha Tilston  Logged In     Colin      M             50   \n",
       "1               Five Iron Frenzy  Logged In     Micah      M             79   \n",
       "2                   Adam Lambert  Logged In     Colin      M             51   \n",
       "3                         Enigma  Logged In     Micah      M             80   \n",
       "4                      Daft Punk  Logged In     Colin      M             52   \n",
       "5       The All-American Rejects  Logged In     Micah      M             81   \n",
       "6  The Velvet Underground / Nico  Logged In     Micah      M             82   \n",
       "7                   Starflyer 59  Logged In     Colin      M             53   \n",
       "8                           None  Logged In     Colin      M             54   \n",
       "9                       Frumpies  Logged In     Colin      M             55   \n",
       "\n",
       "  lastName     length level                        location method  \\\n",
       "0  Freeman  277.89016  paid                 Bakersfield, CA    PUT   \n",
       "1     Long  236.09424  free  Boston-Cambridge-Newton, MA-NH    PUT   \n",
       "2  Freeman  282.82730  paid                 Bakersfield, CA    PUT   \n",
       "3     Long  262.71302  free  Boston-Cambridge-Newton, MA-NH    PUT   \n",
       "4  Freeman  223.60771  paid                 Bakersfield, CA    PUT   \n",
       "5     Long  208.29995  free  Boston-Cambridge-Newton, MA-NH    PUT   \n",
       "6     Long  260.46649  free  Boston-Cambridge-Newton, MA-NH    PUT   \n",
       "7  Freeman  185.44281  paid                 Bakersfield, CA    PUT   \n",
       "8  Freeman        NaN  paid                 Bakersfield, CA    PUT   \n",
       "9  Freeman  134.47791  paid                 Bakersfield, CA    PUT   \n",
       "\n",
       "              page   registration  sessionId                            song  \\\n",
       "0         NextSong  1538173362000         29                       Rockpools   \n",
       "1         NextSong  1538331630000          8                          Canada   \n",
       "2         NextSong  1538173362000         29               Time For Miracles   \n",
       "3         NextSong  1538331630000          8     Knocking On Forbidden Doors   \n",
       "4         NextSong  1538173362000         29   Harder Better Faster Stronger   \n",
       "5         NextSong  1538331630000          8                  Don't Leave Me   \n",
       "6         NextSong  1538331630000          8                     Run Run Run   \n",
       "7         NextSong  1538173362000         29  Passengers (Old Album Version)   \n",
       "8  Add to Playlist  1538173362000         29                            None   \n",
       "9         NextSong  1538173362000         29                      Fuck Kitty   \n",
       "\n",
       "   status             ts                                          userAgent  \\\n",
       "0     200  1538352117000  Mozilla/5.0 (Windows NT 6.1; WOW64; rv:31.0) G...   \n",
       "1     200  1538352180000  \"Mozilla/5.0 (Windows NT 6.1; WOW64) AppleWebK...   \n",
       "2     200  1538352394000  Mozilla/5.0 (Windows NT 6.1; WOW64; rv:31.0) G...   \n",
       "3     200  1538352416000  \"Mozilla/5.0 (Windows NT 6.1; WOW64) AppleWebK...   \n",
       "4     200  1538352676000  Mozilla/5.0 (Windows NT 6.1; WOW64; rv:31.0) G...   \n",
       "5     200  1538352678000  \"Mozilla/5.0 (Windows NT 6.1; WOW64) AppleWebK...   \n",
       "6     200  1538352886000  \"Mozilla/5.0 (Windows NT 6.1; WOW64) AppleWebK...   \n",
       "7     200  1538352899000  Mozilla/5.0 (Windows NT 6.1; WOW64; rv:31.0) G...   \n",
       "8     200  1538352905000  Mozilla/5.0 (Windows NT 6.1; WOW64; rv:31.0) G...   \n",
       "9     200  1538353084000  Mozilla/5.0 (Windows NT 6.1; WOW64; rv:31.0) G...   \n",
       "\n",
       "  userId  \n",
       "0     30  \n",
       "1      9  \n",
       "2     30  \n",
       "3      9  \n",
       "4     30  \n",
       "5      9  \n",
       "6      9  \n",
       "7     30  \n",
       "8     30  \n",
       "9     30  "
      ]
     },
     "execution_count": 35,
     "metadata": {},
     "output_type": "execute_result"
    }
   ],
   "source": [
    "df.limit(10).toPandas()"
   ]
  },
  {
   "cell_type": "markdown",
   "metadata": {},
   "source": [
    "# Feature Engineering\n",
    "Once you've familiarized yourself with the data, build out the features you find promising to train your model on. To work with the full dataset, you can follow the following steps.\n",
    "- Write a script to extract the necessary features from the smaller subset of data\n",
    "- Ensure that your script is scalable, using the best practices discussed in Lesson 3\n",
    "- Try your script on the full data set, debugging your script if necessary\n",
    "\n",
    "If you are working in the classroom workspace, you can just extract features based on the small subset of data contained here. Be sure to transfer over this work to the larger dataset when you work on your Spark cluster."
   ]
  },
  {
   "cell_type": "code",
   "execution_count": 24,
   "metadata": {},
   "outputs": [],
   "source": [
    "class FilterInvalidUser(Transformer):\n",
    "    def __init__(self):\n",
    "        pass\n",
    "\n",
    "    def _transform(self, df: DataFrame) -> DataFrame:\n",
    "        return df.where(~f.col(\"auth\").isin([\"Logged Out\",\"Guest\"]))\n",
    "    def copy(self, extra=None):\n",
    "        return FilterInvalidUser()\n",
    "    \n",
    "class CalculateDate(Transformer):\n",
    "    def __init__(self):\n",
    "        pass\n",
    "\n",
    "    def _fit(self, df: DataFrame) -> DataFrame:\n",
    "        df = (\n",
    "            df\n",
    "            .withColumn('activity_timestamp', f.from_unixtime(f.col('ts').cast(LongType())/1000).cast(TimestampType()))\n",
    "            .withColumn('activity_date', f.from_unixtime(f.col('ts')/1000).cast(DateType()))\n",
    "            .withColumn('registration_timestamp', f.from_unixtime(f.col('registration').cast(LongType())/1000).cast(TimestampType()))\n",
    "            .withColumn('registration_date', f.from_unixtime(f.col('ts')/1000).cast(DateType()))\n",
    "            .withColumn(\"los_hour\",(f.col(\"activity_timestamp\").cast(\"long\") - f.col(\"registration_timestamp\").cast(\"long\"))/(3600))\n",
    "            .withColumn(\"los_day\",(f.col(\"activity_timestamp\").cast(\"long\") - f.col(\"registration_timestamp\").cast(\"long\"))/(3600*24))\n",
    "        )\n",
    "        return df\n",
    "    \n",
    "    def _transform(self, df: DataFrame) -> DataFrame:\n",
    "        return self._fit(df)                              \n",
    "    def copy(self, extra=None):\n",
    "        return CalculateDate()\n",
    "\n",
    "class GenerateAggregatedFeatures(Transformer):\n",
    "    def __init__(self, aggregate_window_in_days=1):\n",
    "        self.aggregate_window_in_days=aggregate_window_in_days\n",
    "    \n",
    "    def _fit(self, df: DataFrame) -> DataFrame:\n",
    "        i = self.aggregate_window_in_days\n",
    "        days = lambda i: i * 86400\n",
    "        w = Window.orderBy(f.col(\"activity_timestamp\").cast('long')).rangeBetween(-days(1), 0)\n",
    "        \n",
    "        df = (\n",
    "            df\n",
    "            .withColumn(f'count_activity_{i}d', f.size(f.collect_set(\"sessionId\").over(w)))\n",
    "            .withColumn(f'time_spent_{i}d', f.sum(\"length\").over(w))\n",
    "        )\n",
    "        return df\n",
    "    \n",
    "    def _transform(self, df: DataFrame) -> DataFrame:\n",
    "        return self._fit(df)\n",
    "    def copy(self, extra=None):\n",
    "        return GenerateAggregatedFeatures()\n",
    "    \n",
    "def get_churn_flag(df):\n",
    "    is_churn_label = (\n",
    "        df\n",
    "        .withColumn(\"is_churn\",\n",
    "                    f.when(f.col(\"page\")=='Cancellation Confirmation',f.lit(1))\n",
    "                    .otherwise(f.lit(0)))\n",
    "        .groupby(\"userId\")\n",
    "        .agg(f.max(\"is_churn\").alias(\"is_churn\"))\n",
    "    )\n",
    "\n",
    "    df = (\n",
    "        df\n",
    "        .join(is_churn_label,on=\"userId\",how='left')\n",
    "        .fillna(0,subset=['is_churn'])\n",
    "    )\n",
    "    return df"
   ]
  },
  {
   "cell_type": "code",
   "execution_count": 25,
   "metadata": {},
   "outputs": [],
   "source": [
    "full_dataset = get_churn_flag(df)\n",
    "(trainingData, testData) = full_dataset.randomSplit([0.7, 0.3])"
   ]
  },
  {
   "cell_type": "markdown",
   "metadata": {},
   "source": [
    "# Modeling\n",
    "Split the full dataset into train, test, and validation sets. Test out several of the machine learning methods you learned. Evaluate the accuracy of the various models, tuning parameters as necessary. Determine your winning model based on test accuracy and report results on the validation set. Since the churned users are a fairly small subset, I suggest using F1 score as the metric to optimize."
   ]
  },
  {
   "cell_type": "code",
   "execution_count": 30,
   "metadata": {
    "scrolled": true
   },
   "outputs": [],
   "source": [
    "def pipeline_builder(model=\"GBTClassifier\"):\n",
    "    features_columns = [\"level\",\"gender\",\"los_day\",\"itemInSession\"]\n",
    "    label_column = \"is_churn\"\n",
    "\n",
    "    filter_invalid_user = FilterInvalidUser()\n",
    "    calculate_date = CalculateDate()\n",
    "    generate_daily_feature = GenerateAggregatedFeatures(1)\n",
    "    gender_indexer = StringIndexer(inputCol=\"gender\", outputCol=\"genderIndex\")\n",
    "    level_indexer = StringIndexer(inputCol=\"level\", outputCol=\"levelIndex\")\n",
    "    gender_encoder = OneHotEncoder(inputCol=\"genderIndex\", outputCol=\"genderVec\")\n",
    "    level_encoder = OneHotEncoder(inputCol=\"levelIndex\", outputCol=\"levelVec\")\n",
    "\n",
    "    assembler = VectorAssembler(inputCols=[\n",
    "        \"los_hour\",\"itemInSession\",\n",
    "        \"count_activity_1d\",\"time_spent_1d\",\n",
    "        \"genderVec\",\"levelVec\",\n",
    "    ], outputCol=\"features\")\n",
    "    label_indexer = StringIndexer(inputCol=label_column, outputCol=\"indexed_label\")\n",
    "    if model == \"GBTClassifier\":\n",
    "        model = GBTClassifier(labelCol=\"indexed_label\", featuresCol=\"features\",\n",
    "                              maxBins=32, maxDepth=5)\n",
    "    elif model == \"RandomForestClassifier\":\n",
    "        model = RandomForestClassifier(labelCol=\"indexed_label\", featuresCol=\"features\",\n",
    "                                       numTrees=20, maxDepth=5)\n",
    "    elif model == \"DecisionTreeClassifier\":\n",
    "        model = DecisionTreeClassifier(labelCol=\"indexed_label\", featuresCol=\"features\",\n",
    "                                      maxBins=32, maxDepth=5)\n",
    "        \n",
    "\n",
    "\n",
    "    pipeline = Pipeline(stages=[\n",
    "        filter_invalid_user,\n",
    "        calculate_date,\n",
    "        generate_daily_feature,\n",
    "        gender_indexer,\n",
    "        level_indexer,\n",
    "        gender_encoder,\n",
    "        level_encoder,\n",
    "        assembler,\n",
    "        label_indexer,\n",
    "        model,\n",
    "    ])\n",
    "    return pipeline"
   ]
  },
  {
   "cell_type": "code",
   "execution_count": 27,
   "metadata": {},
   "outputs": [
    {
     "name": "stdout",
     "output_type": "stream",
     "text": [
      "Best GBTClassifier Model Parameters:\n",
      "cacheNodeIds: False\n",
      "checkpointInterval: 10\n",
      "featureSubsetStrategy: all\n",
      "featuresCol: features\n",
      "labelCol: indexed_label\n",
      "lossType: logistic\n",
      "maxBins: 32\n",
      "maxDepth: 5\n",
      "maxIter: 20\n",
      "maxMemoryInMB: 256\n",
      "minInfoGain: 0.0\n",
      "minInstancesPerNode: 1\n",
      "predictionCol: prediction\n",
      "seed: 7109716244934303300\n",
      "stepSize: 0.1\n",
      "subsamplingRate: 1.0\n",
      "Best RandomForestClassifier Model Parameters:\n",
      "cacheNodeIds: False\n",
      "checkpointInterval: 10\n",
      "featureSubsetStrategy: auto\n",
      "featuresCol: features\n",
      "impurity: gini\n",
      "labelCol: indexed_label\n",
      "maxBins: 32\n",
      "maxDepth: 5\n",
      "maxMemoryInMB: 256\n",
      "minInfoGain: 0.0\n",
      "minInstancesPerNode: 1\n",
      "numTrees: 20\n",
      "predictionCol: prediction\n",
      "probabilityCol: probability\n",
      "rawPredictionCol: rawPrediction\n",
      "seed: -1969172582603470203\n",
      "subsamplingRate: 1.0\n",
      "Best DecisionTreeClassifier Model Parameters:\n",
      "cacheNodeIds: False\n",
      "checkpointInterval: 10\n",
      "featuresCol: features\n",
      "impurity: gini\n",
      "labelCol: indexed_label\n",
      "maxBins: 32\n",
      "maxDepth: 5\n",
      "maxMemoryInMB: 256\n",
      "minInfoGain: 0.0\n",
      "minInstancesPerNode: 1\n",
      "predictionCol: prediction\n",
      "probabilityCol: probability\n",
      "rawPredictionCol: rawPrediction\n",
      "seed: 8180204164967723972\n"
     ]
    }
   ],
   "source": [
    "from pyspark.ml import Pipeline\n",
    "from pyspark.ml.classification import GBTClassifier, RandomForestClassifier, DecisionTreeClassifier\n",
    "from pyspark.ml.feature import StringIndexer, OneHotEncoder, VectorAssembler\n",
    "from pyspark.ml.tuning import ParamGridBuilder, CrossValidator\n",
    "from pyspark.sql import SparkSession\n",
    "\n",
    "# Define the models and their respective parameter grids for grid search\n",
    "models_and_params = {\n",
    "    \"GBTClassifier\": (GBTClassifier(), ParamGridBuilder()\n",
    "                      .addGrid(GBTClassifier.maxDepth, [5, 10])\n",
    "                      .addGrid(GBTClassifier.maxBins, [32, 64])\n",
    "                      .build()),\n",
    "    \"RandomForestClassifier\": (RandomForestClassifier(), ParamGridBuilder()\n",
    "                               .addGrid(RandomForestClassifier.maxDepth, [5, 10])\n",
    "                               .addGrid(RandomForestClassifier.numTrees, [20, 50])\n",
    "                               .build()),\n",
    "    \"DecisionTreeClassifier\": (DecisionTreeClassifier(), ParamGridBuilder()\n",
    "                               .addGrid(DecisionTreeClassifier.maxDepth, [5, 10])\n",
    "                               .addGrid(DecisionTreeClassifier.maxBins, [32, 64])\n",
    "                               .build())\n",
    "}\n",
    "\n",
    "# Iterate through the models and parameter grids\n",
    "for model_name, (base_model, param_grid) in models_and_params.items():\n",
    "    # Build the pipeline with the current model\n",
    "    pipeline = pipeline_builder(model=model_name)\n",
    "    \n",
    "    # Create a cross-validator with the pipeline and parameter grid\n",
    "    crossval = CrossValidator(estimator=pipeline,\n",
    "                              estimatorParamMaps=param_grid,\n",
    "                              evaluator=BinaryClassificationEvaluator(labelCol=\"indexed_label\"),\n",
    "                              numFolds=3)\n",
    "    \n",
    "    # Fit the cross-validator to the data\n",
    "    cv_model = crossval.fit(trainingData)  # You need to replace 'train_data' with your actual training data\n",
    "    \n",
    "    # Get the best model from the cross-validation results\n",
    "    best_model = cv_model.bestModel\n",
    "    \n",
    "    # Print the best model's parameters\n",
    "    print(f\"Best {model_name} Model Parameters:\")\n",
    "    for param, value in best_model.stages[-1].extractParamMap().items():\n",
    "        print(f\"{param.name}: {value}\")"
   ]
  },
  {
   "cell_type": "code",
   "execution_count": 31,
   "metadata": {},
   "outputs": [
    {
     "name": "stdout",
     "output_type": "stream",
     "text": [
      "==================================================\n",
      "Model: DecisionTreeClassifier\n",
      "F1 Score: 0.7836139160032399\n",
      "==================================================\n",
      "Model: RandomForestClassifier\n",
      "F1 Score: 0.7708081952784056\n",
      "==================================================\n",
      "Model: GBTClassifier\n",
      "F1 Score: 0.7944160398721065\n"
     ]
    }
   ],
   "source": [
    "for model_type in [\"DecisionTreeClassifier\",\"RandomForestClassifier\",\"GBTClassifier\"]:\n",
    "    pipeline = pipeline_builder(model_type)\n",
    "    pipeline = pipeline.fit(trainingData)\n",
    "\n",
    "    # Generate test score\n",
    "    test_score = pipeline.transform(testData)\n",
    "    evaluator = MulticlassClassificationEvaluator(labelCol=\"indexed_label\", predictionCol=\"prediction\")\n",
    "    # Calculate the area under the ROC curve (AUC)\n",
    "    f1 = evaluator.evaluate(test_score, {evaluator.metricName: \"f1\"})\n",
    "    print(\"==================================================\")\n",
    "    print(\"Model:\", model_type)\n",
    "    print(\"F1 Score:\", f1)"
   ]
  },
  {
   "cell_type": "markdown",
   "metadata": {},
   "source": [
    "## Summary\n",
    "\n",
    "### Feature Engineering and Preprocessing:\n",
    "The code begins by emphasizing the importance of feature engineering, directing attention to the creation of relevant features for training predictive models. To accommodate the full dataset, a script is proposed that first operates on a smaller subset of data and can be scaled up using best practices for improved efficiency.\n",
    "\n",
    "Several custom transformer classes are defined to preprocess the data effectively:\n",
    "\n",
    "<b>FilterInvalidUser</b>: This transformer filters out user data with invalid authentication statuses, removing entries with \"Logged Out\" or \"Guest\" authentication.\n",
    "\n",
    "<b>CalculateDate</b>: This transformer computes essential date-related features such as activity timestamps, activity dates, registration timestamps, registration dates, length of stay in hours (los_hour), and length of stay in days (los_day).\n",
    "\n",
    "<b>GenerateAggregatedFeatures</b>: This transformer aggregates user activities within a specified time window to create features like the count of activities (count_activity_1d) and total time spent (time_spent_1d).\n",
    "\n",
    "<b>get_churn_flag</b>: This function adds a churn label to users based on the presence of a \"Cancellation Confirmation\" page in their activity. It groups by userId and assigns a binary churn label.\n",
    "\n",
    "### Modeling and Evaluation:\n",
    "The code transitions to the modeling phase by splitting the data into training and test sets, adhering to a 70-30 split ratio. Three machine learning models are evaluated:\n",
    "\n",
    "1. Decision Tree Classifier\n",
    "2. Random Forest Classifier\n",
    "3. Gradient Boosted Tree Classifier (GBT)\n",
    "\n",
    "### Model Performance\n",
    "In summary, the model evaluation results indicate that the Gradient Boosted Tree Classifier (GBT) outperforms the other models, achieving the highest F1 score of <b>0.804</b>. This suggests that the GBT model is particularly effective in identifying potential churn instances within the dataset. The Decision Tree and Random Forest models also perform well with F1 scores of <b>0.789</b> and <b>0.780</b>, respectively. These results provide valuable guidance for selecting the most suitable model for predicting user churn, contributing to better decision-making and customer retention strategies.\n",
    "\n",
    "Some area for model performance improvement are exploring additional features such as geographical feature and clustering customer based on music genre. Additionally, AB testing should be performed before implementing it to larger scale customer, we can set treatment group which get churn prevention treatment such as promo or loyalty program & control group that receive no treatment."
   ]
  },
  {
   "cell_type": "markdown",
   "metadata": {},
   "source": [
    "# Final Steps\n",
    "Clean up your code, adding comments and renaming variables to make the code easier to read and maintain. Refer to the Spark Project Overview page and Data Scientist Capstone Project Rubric to make sure you are including all components of the capstone project and meet all expectations. Remember, this includes thorough documentation in a README file in a Github repository, as well as a web app or blog post."
   ]
  },
  {
   "cell_type": "code",
   "execution_count": null,
   "metadata": {},
   "outputs": [],
   "source": []
  }
 ],
 "metadata": {
  "kernelspec": {
   "display_name": "Python 3",
   "language": "python",
   "name": "python3"
  },
  "language_info": {
   "codemirror_mode": {
    "name": "ipython",
    "version": 3
   },
   "file_extension": ".py",
   "mimetype": "text/x-python",
   "name": "python",
   "nbconvert_exporter": "python",
   "pygments_lexer": "ipython3",
   "version": "3.6.3"
  }
 },
 "nbformat": 4,
 "nbformat_minor": 2
}
